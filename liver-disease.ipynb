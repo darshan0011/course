{
 "cells": [
  {
   "cell_type": "code",
   "execution_count": 1,
   "metadata": {
    "_cell_guid": "b1076dfc-b9ad-4769-8c92-a6c4dae69d19",
    "_uuid": "8f2839f25d086af736a60e9eeb907d3b93b6e0e5",
    "execution": {
     "iopub.execute_input": "2020-12-06T18:04:04.678960Z",
     "iopub.status.busy": "2020-12-06T18:04:04.678163Z",
     "iopub.status.idle": "2020-12-06T18:04:05.775207Z",
     "shell.execute_reply": "2020-12-06T18:04:05.773767Z"
    },
    "papermill": {
     "duration": 1.128307,
     "end_time": "2020-12-06T18:04:05.775397",
     "exception": false,
     "start_time": "2020-12-06T18:04:04.647090",
     "status": "completed"
    },
    "tags": []
   },
   "outputs": [
    {
     "name": "stdout",
     "output_type": "stream",
     "text": [
      "/kaggle/input/classifying-liver-disease-patients/sample_submission.csv\n",
      "/kaggle/input/classifying-liver-disease-patients/train.csv\n",
      "/kaggle/input/classifying-liver-disease-patients/test.csv\n"
     ]
    }
   ],
   "source": [
    "\n",
    "import numpy as np # linear algebra\n",
    "import pandas as pd # data processing, CSV file I/O (e.g. pd.read_csv)\n",
    "import seaborn as sns\n",
    "from matplotlib import pyplot as plt\n",
    "\n",
    "import os\n",
    "for dirname, _, filenames in os.walk('/kaggle/input'):\n",
    "    for filename in filenames:\n",
    "        print(os.path.join(dirname, filename))\n",
    "\n"
   ]
  },
  {
   "cell_type": "code",
   "execution_count": 2,
   "metadata": {
    "_cell_guid": "79c7e3d0-c299-4dcb-8224-4455121ee9b0",
    "_uuid": "d629ff2d2480ee46fbb7e2d37f6b5fab8052498a",
    "execution": {
     "iopub.execute_input": "2020-12-06T18:04:05.827583Z",
     "iopub.status.busy": "2020-12-06T18:04:05.826818Z",
     "iopub.status.idle": "2020-12-06T18:04:05.849441Z",
     "shell.execute_reply": "2020-12-06T18:04:05.848502Z"
    },
    "papermill": {
     "duration": 0.051146,
     "end_time": "2020-12-06T18:04:05.849591",
     "exception": false,
     "start_time": "2020-12-06T18:04:05.798445",
     "status": "completed"
    },
    "tags": []
   },
   "outputs": [],
   "source": [
    "train_set_df = pd.read_csv(\"/kaggle/input/classifying-liver-disease-patients/train.csv\")\n",
    "test_set_df  = pd.read_csv(\"/kaggle/input/classifying-liver-disease-patients/test.csv\")"
   ]
  },
  {
   "cell_type": "code",
   "execution_count": 3,
   "metadata": {
    "execution": {
     "iopub.execute_input": "2020-12-06T18:04:05.915174Z",
     "iopub.status.busy": "2020-12-06T18:04:05.913933Z",
     "iopub.status.idle": "2020-12-06T18:04:05.962304Z",
     "shell.execute_reply": "2020-12-06T18:04:05.961413Z"
    },
    "papermill": {
     "duration": 0.088408,
     "end_time": "2020-12-06T18:04:05.962445",
     "exception": false,
     "start_time": "2020-12-06T18:04:05.874037",
     "status": "completed"
    },
    "tags": []
   },
   "outputs": [
    {
     "data": {
      "text/html": [
       "<div>\n",
       "<style scoped>\n",
       "    .dataframe tbody tr th:only-of-type {\n",
       "        vertical-align: middle;\n",
       "    }\n",
       "\n",
       "    .dataframe tbody tr th {\n",
       "        vertical-align: top;\n",
       "    }\n",
       "\n",
       "    .dataframe thead th {\n",
       "        text-align: right;\n",
       "    }\n",
       "</style>\n",
       "<table border=\"1\" class=\"dataframe\">\n",
       "  <thead>\n",
       "    <tr style=\"text-align: right;\">\n",
       "      <th></th>\n",
       "      <th>AGE</th>\n",
       "      <th>TB</th>\n",
       "      <th>DB</th>\n",
       "      <th>ALP</th>\n",
       "      <th>ALT</th>\n",
       "      <th>AST</th>\n",
       "      <th>TP</th>\n",
       "      <th>ALB</th>\n",
       "      <th>AGR</th>\n",
       "      <th>STATUS</th>\n",
       "    </tr>\n",
       "  </thead>\n",
       "  <tbody>\n",
       "    <tr>\n",
       "      <th>count</th>\n",
       "      <td>410.000000</td>\n",
       "      <td>410.000000</td>\n",
       "      <td>410.000000</td>\n",
       "      <td>410.000000</td>\n",
       "      <td>410.000000</td>\n",
       "      <td>410.000000</td>\n",
       "      <td>410.000000</td>\n",
       "      <td>410.000000</td>\n",
       "      <td>406.000000</td>\n",
       "      <td>410.000000</td>\n",
       "    </tr>\n",
       "    <tr>\n",
       "      <th>mean</th>\n",
       "      <td>44.756098</td>\n",
       "      <td>2.753659</td>\n",
       "      <td>1.181220</td>\n",
       "      <td>295.231707</td>\n",
       "      <td>85.365854</td>\n",
       "      <td>112.965854</td>\n",
       "      <td>6.471220</td>\n",
       "      <td>3.197073</td>\n",
       "      <td>0.967857</td>\n",
       "      <td>1.287805</td>\n",
       "    </tr>\n",
       "    <tr>\n",
       "      <th>std</th>\n",
       "      <td>16.697482</td>\n",
       "      <td>5.468840</td>\n",
       "      <td>2.146291</td>\n",
       "      <td>248.341349</td>\n",
       "      <td>207.123973</td>\n",
       "      <td>331.964765</td>\n",
       "      <td>1.090748</td>\n",
       "      <td>0.794782</td>\n",
       "      <td>0.286926</td>\n",
       "      <td>0.453293</td>\n",
       "    </tr>\n",
       "    <tr>\n",
       "      <th>min</th>\n",
       "      <td>4.000000</td>\n",
       "      <td>0.500000</td>\n",
       "      <td>0.100000</td>\n",
       "      <td>63.000000</td>\n",
       "      <td>10.000000</td>\n",
       "      <td>10.000000</td>\n",
       "      <td>2.700000</td>\n",
       "      <td>0.900000</td>\n",
       "      <td>0.300000</td>\n",
       "      <td>1.000000</td>\n",
       "    </tr>\n",
       "    <tr>\n",
       "      <th>25%</th>\n",
       "      <td>33.000000</td>\n",
       "      <td>0.800000</td>\n",
       "      <td>0.200000</td>\n",
       "      <td>176.000000</td>\n",
       "      <td>23.250000</td>\n",
       "      <td>24.000000</td>\n",
       "      <td>5.700000</td>\n",
       "      <td>2.625000</td>\n",
       "      <td>0.800000</td>\n",
       "      <td>1.000000</td>\n",
       "    </tr>\n",
       "    <tr>\n",
       "      <th>50%</th>\n",
       "      <td>45.000000</td>\n",
       "      <td>1.000000</td>\n",
       "      <td>0.300000</td>\n",
       "      <td>208.000000</td>\n",
       "      <td>35.000000</td>\n",
       "      <td>40.000000</td>\n",
       "      <td>6.500000</td>\n",
       "      <td>3.200000</td>\n",
       "      <td>1.000000</td>\n",
       "      <td>1.000000</td>\n",
       "    </tr>\n",
       "    <tr>\n",
       "      <th>75%</th>\n",
       "      <td>58.000000</td>\n",
       "      <td>2.275000</td>\n",
       "      <td>1.100000</td>\n",
       "      <td>298.000000</td>\n",
       "      <td>60.000000</td>\n",
       "      <td>79.750000</td>\n",
       "      <td>7.200000</td>\n",
       "      <td>3.800000</td>\n",
       "      <td>1.100000</td>\n",
       "      <td>2.000000</td>\n",
       "    </tr>\n",
       "    <tr>\n",
       "      <th>max</th>\n",
       "      <td>85.000000</td>\n",
       "      <td>75.000000</td>\n",
       "      <td>14.200000</td>\n",
       "      <td>2110.000000</td>\n",
       "      <td>2000.000000</td>\n",
       "      <td>4929.000000</td>\n",
       "      <td>9.600000</td>\n",
       "      <td>5.500000</td>\n",
       "      <td>1.900000</td>\n",
       "      <td>2.000000</td>\n",
       "    </tr>\n",
       "  </tbody>\n",
       "</table>\n",
       "</div>"
      ],
      "text/plain": [
       "              AGE          TB          DB          ALP          ALT  \\\n",
       "count  410.000000  410.000000  410.000000   410.000000   410.000000   \n",
       "mean    44.756098    2.753659    1.181220   295.231707    85.365854   \n",
       "std     16.697482    5.468840    2.146291   248.341349   207.123973   \n",
       "min      4.000000    0.500000    0.100000    63.000000    10.000000   \n",
       "25%     33.000000    0.800000    0.200000   176.000000    23.250000   \n",
       "50%     45.000000    1.000000    0.300000   208.000000    35.000000   \n",
       "75%     58.000000    2.275000    1.100000   298.000000    60.000000   \n",
       "max     85.000000   75.000000   14.200000  2110.000000  2000.000000   \n",
       "\n",
       "               AST          TP         ALB         AGR      STATUS  \n",
       "count   410.000000  410.000000  410.000000  406.000000  410.000000  \n",
       "mean    112.965854    6.471220    3.197073    0.967857    1.287805  \n",
       "std     331.964765    1.090748    0.794782    0.286926    0.453293  \n",
       "min      10.000000    2.700000    0.900000    0.300000    1.000000  \n",
       "25%      24.000000    5.700000    2.625000    0.800000    1.000000  \n",
       "50%      40.000000    6.500000    3.200000    1.000000    1.000000  \n",
       "75%      79.750000    7.200000    3.800000    1.100000    2.000000  \n",
       "max    4929.000000    9.600000    5.500000    1.900000    2.000000  "
      ]
     },
     "execution_count": 3,
     "metadata": {},
     "output_type": "execute_result"
    }
   ],
   "source": [
    "train_set_df.describe()"
   ]
  },
  {
   "cell_type": "code",
   "execution_count": 4,
   "metadata": {
    "execution": {
     "iopub.execute_input": "2020-12-06T18:04:06.021716Z",
     "iopub.status.busy": "2020-12-06T18:04:06.020633Z",
     "iopub.status.idle": "2020-12-06T18:04:06.023946Z",
     "shell.execute_reply": "2020-12-06T18:04:06.023191Z"
    },
    "papermill": {
     "duration": 0.038012,
     "end_time": "2020-12-06T18:04:06.024084",
     "exception": false,
     "start_time": "2020-12-06T18:04:05.986072",
     "status": "completed"
    },
    "tags": []
   },
   "outputs": [],
   "source": [
    "\n",
    "train_set = train_set_df.drop(['PID','GENDER'],axis=1)\n",
    "y_train = train_set['STATUS']\n",
    "train_set = train_set.drop(['STATUS'],axis=1)\n",
    "train_set.head()\n",
    "# y_test = test_set['STATUS']\n",
    "test_set = test_set_df.drop(['PID','GENDER'],axis=1)\n",
    "\n"
   ]
  },
  {
   "cell_type": "code",
   "execution_count": 5,
   "metadata": {
    "execution": {
     "iopub.execute_input": "2020-12-06T18:04:06.090280Z",
     "iopub.status.busy": "2020-12-06T18:04:06.089366Z",
     "iopub.status.idle": "2020-12-06T18:04:06.093999Z",
     "shell.execute_reply": "2020-12-06T18:04:06.093356Z"
    },
    "papermill": {
     "duration": 0.047682,
     "end_time": "2020-12-06T18:04:06.094131",
     "exception": false,
     "start_time": "2020-12-06T18:04:06.046449",
     "status": "completed"
    },
    "tags": []
   },
   "outputs": [
    {
     "data": {
      "text/html": [
       "<div>\n",
       "<style scoped>\n",
       "    .dataframe tbody tr th:only-of-type {\n",
       "        vertical-align: middle;\n",
       "    }\n",
       "\n",
       "    .dataframe tbody tr th {\n",
       "        vertical-align: top;\n",
       "    }\n",
       "\n",
       "    .dataframe thead th {\n",
       "        text-align: right;\n",
       "    }\n",
       "</style>\n",
       "<table border=\"1\" class=\"dataframe\">\n",
       "  <thead>\n",
       "    <tr style=\"text-align: right;\">\n",
       "      <th></th>\n",
       "      <th>AGE</th>\n",
       "      <th>TB</th>\n",
       "      <th>DB</th>\n",
       "      <th>ALP</th>\n",
       "      <th>ALT</th>\n",
       "      <th>AST</th>\n",
       "      <th>TP</th>\n",
       "      <th>ALB</th>\n",
       "      <th>AGR</th>\n",
       "    </tr>\n",
       "  </thead>\n",
       "  <tbody>\n",
       "    <tr>\n",
       "      <th>0</th>\n",
       "      <td>65</td>\n",
       "      <td>0.7</td>\n",
       "      <td>0.1</td>\n",
       "      <td>187</td>\n",
       "      <td>16</td>\n",
       "      <td>18</td>\n",
       "      <td>6.8</td>\n",
       "      <td>3.3</td>\n",
       "      <td>0.90</td>\n",
       "    </tr>\n",
       "    <tr>\n",
       "      <th>1</th>\n",
       "      <td>62</td>\n",
       "      <td>10.9</td>\n",
       "      <td>5.5</td>\n",
       "      <td>699</td>\n",
       "      <td>64</td>\n",
       "      <td>100</td>\n",
       "      <td>7.5</td>\n",
       "      <td>3.2</td>\n",
       "      <td>0.74</td>\n",
       "    </tr>\n",
       "    <tr>\n",
       "      <th>2</th>\n",
       "      <td>62</td>\n",
       "      <td>7.3</td>\n",
       "      <td>4.1</td>\n",
       "      <td>490</td>\n",
       "      <td>60</td>\n",
       "      <td>68</td>\n",
       "      <td>7.0</td>\n",
       "      <td>3.3</td>\n",
       "      <td>0.89</td>\n",
       "    </tr>\n",
       "    <tr>\n",
       "      <th>3</th>\n",
       "      <td>58</td>\n",
       "      <td>1.0</td>\n",
       "      <td>0.4</td>\n",
       "      <td>182</td>\n",
       "      <td>14</td>\n",
       "      <td>20</td>\n",
       "      <td>6.8</td>\n",
       "      <td>3.4</td>\n",
       "      <td>1.00</td>\n",
       "    </tr>\n",
       "    <tr>\n",
       "      <th>4</th>\n",
       "      <td>72</td>\n",
       "      <td>3.9</td>\n",
       "      <td>2.0</td>\n",
       "      <td>195</td>\n",
       "      <td>27</td>\n",
       "      <td>59</td>\n",
       "      <td>7.3</td>\n",
       "      <td>2.4</td>\n",
       "      <td>0.40</td>\n",
       "    </tr>\n",
       "  </tbody>\n",
       "</table>\n",
       "</div>"
      ],
      "text/plain": [
       "   AGE    TB   DB  ALP  ALT  AST   TP  ALB   AGR\n",
       "0   65   0.7  0.1  187   16   18  6.8  3.3  0.90\n",
       "1   62  10.9  5.5  699   64  100  7.5  3.2  0.74\n",
       "2   62   7.3  4.1  490   60   68  7.0  3.3  0.89\n",
       "3   58   1.0  0.4  182   14   20  6.8  3.4  1.00\n",
       "4   72   3.9  2.0  195   27   59  7.3  2.4  0.40"
      ]
     },
     "execution_count": 5,
     "metadata": {},
     "output_type": "execute_result"
    }
   ],
   "source": [
    "train_set = pd.get_dummies(train_set,drop_first=True)\n",
    "train_set.head()"
   ]
  },
  {
   "cell_type": "code",
   "execution_count": 6,
   "metadata": {
    "execution": {
     "iopub.execute_input": "2020-12-06T18:04:06.149358Z",
     "iopub.status.busy": "2020-12-06T18:04:06.148197Z",
     "iopub.status.idle": "2020-12-06T18:04:06.152887Z",
     "shell.execute_reply": "2020-12-06T18:04:06.152129Z"
    },
    "papermill": {
     "duration": 0.035889,
     "end_time": "2020-12-06T18:04:06.153063",
     "exception": false,
     "start_time": "2020-12-06T18:04:06.117174",
     "status": "completed"
    },
    "tags": []
   },
   "outputs": [
    {
     "data": {
      "text/plain": [
       "AGE    0\n",
       "TB     0\n",
       "DB     0\n",
       "ALP    0\n",
       "ALT    0\n",
       "AST    0\n",
       "TP     0\n",
       "ALB    0\n",
       "AGR    4\n",
       "dtype: int64"
      ]
     },
     "execution_count": 6,
     "metadata": {},
     "output_type": "execute_result"
    }
   ],
   "source": [
    "train_set.isnull().sum()"
   ]
  },
  {
   "cell_type": "code",
   "execution_count": 7,
   "metadata": {
    "execution": {
     "iopub.execute_input": "2020-12-06T18:04:06.212141Z",
     "iopub.status.busy": "2020-12-06T18:04:06.211080Z",
     "iopub.status.idle": "2020-12-06T18:04:06.216212Z",
     "shell.execute_reply": "2020-12-06T18:04:06.215247Z"
    },
    "papermill": {
     "duration": 0.039885,
     "end_time": "2020-12-06T18:04:06.216342",
     "exception": false,
     "start_time": "2020-12-06T18:04:06.176457",
     "status": "completed"
    },
    "tags": []
   },
   "outputs": [
    {
     "data": {
      "text/plain": [
       "AGE    0\n",
       "TB     0\n",
       "DB     0\n",
       "ALP    0\n",
       "ALT    0\n",
       "AST    0\n",
       "TP     0\n",
       "ALB    0\n",
       "AGR    0\n",
       "dtype: int64"
      ]
     },
     "execution_count": 7,
     "metadata": {},
     "output_type": "execute_result"
    }
   ],
   "source": [
    "train_set['AGR'] = train_set['AGR'].fillna(train_set['AGR'].mean())\n",
    "train_set.isnull().sum()"
   ]
  },
  {
   "cell_type": "code",
   "execution_count": 8,
   "metadata": {
    "execution": {
     "iopub.execute_input": "2020-12-06T18:04:06.273955Z",
     "iopub.status.busy": "2020-12-06T18:04:06.273164Z",
     "iopub.status.idle": "2020-12-06T18:04:06.482963Z",
     "shell.execute_reply": "2020-12-06T18:04:06.482174Z"
    },
    "papermill": {
     "duration": 0.243057,
     "end_time": "2020-12-06T18:04:06.483093",
     "exception": false,
     "start_time": "2020-12-06T18:04:06.240036",
     "status": "completed"
    },
    "tags": []
   },
   "outputs": [
    {
     "data": {
      "text/plain": [
       "Text(0, 0.5, 'Frequency')"
      ]
     },
     "execution_count": 8,
     "metadata": {},
     "output_type": "execute_result"
    },
    {
     "data": {
      "image/png": "[encoded data removed]",
      "text/plain": [
       "<Figure size 432x288 with 1 Axes>"
      ]
     },
     "metadata": {
      "needs_background": "light"
     },
     "output_type": "display_data"
    }
   ],
   "source": [
    "count_classes = pd.value_counts(train_set_df['STATUS'], sort = True).sort_index()\n",
    "count_classes.plot(kind = 'bar')\n",
    "plt.title(\"Liver disease classes histogram\")\n",
    "plt.xlabel(\"STATUS\")\n",
    "plt.ylabel(\"Frequency\")"
   ]
  },
  {
   "cell_type": "code",
   "execution_count": 9,
   "metadata": {
    "execution": {
     "iopub.execute_input": "2020-12-06T18:04:06.541451Z",
     "iopub.status.busy": "2020-12-06T18:04:06.540566Z",
     "iopub.status.idle": "2020-12-06T18:04:06.632727Z",
     "shell.execute_reply": "2020-12-06T18:04:06.633292Z"
    },
    "papermill": {
     "duration": 0.124516,
     "end_time": "2020-12-06T18:04:06.633455",
     "exception": false,
     "start_time": "2020-12-06T18:04:06.508939",
     "status": "completed"
    },
    "tags": []
   },
   "outputs": [
    {
     "data": {
      "text/html": [
       "<div>\n",
       "<style scoped>\n",
       "    .dataframe tbody tr th:only-of-type {\n",
       "        vertical-align: middle;\n",
       "    }\n",
       "\n",
       "    .dataframe tbody tr th {\n",
       "        vertical-align: top;\n",
       "    }\n",
       "\n",
       "    .dataframe thead th {\n",
       "        text-align: right;\n",
       "    }\n",
       "</style>\n",
       "<table border=\"1\" class=\"dataframe\">\n",
       "  <thead>\n",
       "    <tr style=\"text-align: right;\">\n",
       "      <th></th>\n",
       "      <th>AGE</th>\n",
       "      <th>TB</th>\n",
       "      <th>DB</th>\n",
       "      <th>ALP</th>\n",
       "      <th>ALT</th>\n",
       "      <th>AST</th>\n",
       "      <th>TP</th>\n",
       "      <th>ALB</th>\n",
       "      <th>AGR</th>\n",
       "    </tr>\n",
       "  </thead>\n",
       "  <tbody>\n",
       "    <tr>\n",
       "      <th>0</th>\n",
       "      <td>1.213874</td>\n",
       "      <td>-0.375979</td>\n",
       "      <td>-0.504377</td>\n",
       "      <td>-0.436351</td>\n",
       "      <td>-0.335309</td>\n",
       "      <td>-0.286422</td>\n",
       "      <td>0.301795</td>\n",
       "      <td>0.129661</td>\n",
       "      <td>-0.237952</td>\n",
       "    </tr>\n",
       "    <tr>\n",
       "      <th>1</th>\n",
       "      <td>1.033986</td>\n",
       "      <td>1.491412</td>\n",
       "      <td>2.014665</td>\n",
       "      <td>1.627847</td>\n",
       "      <td>-0.103281</td>\n",
       "      <td>-0.039106</td>\n",
       "      <td>0.944340</td>\n",
       "      <td>0.003687</td>\n",
       "      <td>-0.799019</td>\n",
       "    </tr>\n",
       "    <tr>\n",
       "      <th>2</th>\n",
       "      <td>1.033986</td>\n",
       "      <td>0.832333</td>\n",
       "      <td>1.361580</td>\n",
       "      <td>0.785235</td>\n",
       "      <td>-0.122617</td>\n",
       "      <td>-0.135619</td>\n",
       "      <td>0.485379</td>\n",
       "      <td>0.129661</td>\n",
       "      <td>-0.273019</td>\n",
       "    </tr>\n",
       "    <tr>\n",
       "      <th>3</th>\n",
       "      <td>0.794137</td>\n",
       "      <td>-0.321055</td>\n",
       "      <td>-0.364431</td>\n",
       "      <td>-0.456509</td>\n",
       "      <td>-0.344977</td>\n",
       "      <td>-0.280389</td>\n",
       "      <td>0.301795</td>\n",
       "      <td>0.255636</td>\n",
       "      <td>0.112714</td>\n",
       "    </tr>\n",
       "    <tr>\n",
       "      <th>4</th>\n",
       "      <td>1.633611</td>\n",
       "      <td>0.209869</td>\n",
       "      <td>0.381952</td>\n",
       "      <td>-0.404098</td>\n",
       "      <td>-0.282136</td>\n",
       "      <td>-0.162764</td>\n",
       "      <td>0.760756</td>\n",
       "      <td>-1.004108</td>\n",
       "      <td>-1.991286</td>\n",
       "    </tr>\n",
       "  </tbody>\n",
       "</table>\n",
       "</div>"
      ],
      "text/plain": [
       "        AGE        TB        DB       ALP       ALT       AST        TP  \\\n",
       "0  1.213874 -0.375979 -0.504377 -0.436351 -0.335309 -0.286422  0.301795   \n",
       "1  1.033986  1.491412  2.014665  1.627847 -0.103281 -0.039106  0.944340   \n",
       "2  1.033986  0.832333  1.361580  0.785235 -0.122617 -0.135619  0.485379   \n",
       "3  0.794137 -0.321055 -0.364431 -0.456509 -0.344977 -0.280389  0.301795   \n",
       "4  1.633611  0.209869  0.381952 -0.404098 -0.282136 -0.162764  0.760756   \n",
       "\n",
       "        ALB       AGR  \n",
       "0  0.129661 -0.237952  \n",
       "1  0.003687 -0.799019  \n",
       "2  0.129661 -0.273019  \n",
       "3  0.255636  0.112714  \n",
       "4 -1.004108 -1.991286  "
      ]
     },
     "execution_count": 9,
     "metadata": {},
     "output_type": "execute_result"
    }
   ],
   "source": [
    "from sklearn.preprocessing import StandardScaler\n",
    "scaler=StandardScaler()\n",
    "cols=list(train_set.columns)\n",
    "train_set_scaled=pd.DataFrame(data=train_set)\n",
    "train_set_scaled[cols]=scaler.fit_transform(train_set[cols])\n",
    "train_set_scaled.head()"
   ]
  },
  {
   "cell_type": "code",
   "execution_count": 10,
   "metadata": {
    "execution": {
     "iopub.execute_input": "2020-12-06T18:04:06.690134Z",
     "iopub.status.busy": "2020-12-06T18:04:06.689212Z",
     "iopub.status.idle": "2020-12-06T18:04:06.692030Z",
     "shell.execute_reply": "2020-12-06T18:04:06.691287Z"
    },
    "papermill": {
     "duration": 0.032992,
     "end_time": "2020-12-06T18:04:06.692167",
     "exception": false,
     "start_time": "2020-12-06T18:04:06.659175",
     "status": "completed"
    },
    "tags": []
   },
   "outputs": [],
   "source": [
    "# sns.pairplot(train_set_scaled,hue='STATUS')"
   ]
  },
  {
   "cell_type": "code",
   "execution_count": 11,
   "metadata": {
    "execution": {
     "iopub.execute_input": "2020-12-06T18:04:06.760218Z",
     "iopub.status.busy": "2020-12-06T18:04:06.758135Z",
     "iopub.status.idle": "2020-12-06T18:04:07.326595Z",
     "shell.execute_reply": "2020-12-06T18:04:07.327224Z"
    },
    "papermill": {
     "duration": 0.609544,
     "end_time": "2020-12-06T18:04:07.327389",
     "exception": false,
     "start_time": "2020-12-06T18:04:06.717845",
     "status": "completed"
    },
    "tags": []
   },
   "outputs": [
    {
     "data": {
      "text/plain": [
       "<matplotlib.axes._subplots.AxesSubplot at 0x7f9d6d78b350>"
      ]
     },
     "execution_count": 11,
     "metadata": {},
     "output_type": "execute_result"
    },
    {
     "data": {
      "image/png": "[encoded data removed]",
      "text/plain": [
       "<Figure size 864x720 with 2 Axes>"
      ]
     },
     "metadata": {
      "needs_background": "light"
     },
     "output_type": "display_data"
    }
   ],
   "source": [
    "f, ax = plt.subplots(figsize=(12, 10))\n",
    "plt.title(' Correlation of liver disease Features')\n",
    "# Draw the heatmap using seaborn\n",
    "sns.heatmap(train_set_scaled.astype(float).corr(),linewidths=0.25,vmax=1.0, square=True, cmap=\"YlGnBu\", linecolor='black',annot=True)"
   ]
  },
  {
   "cell_type": "code",
   "execution_count": 12,
   "metadata": {
    "execution": {
     "iopub.execute_input": "2020-12-06T18:04:07.390463Z",
     "iopub.status.busy": "2020-12-06T18:04:07.389484Z",
     "iopub.status.idle": "2020-12-06T18:04:07.392976Z",
     "shell.execute_reply": "2020-12-06T18:04:07.392224Z"
    },
    "papermill": {
     "duration": 0.036271,
     "end_time": "2020-12-06T18:04:07.393112",
     "exception": false,
     "start_time": "2020-12-06T18:04:07.356841",
     "status": "completed"
    },
    "tags": []
   },
   "outputs": [],
   "source": [
    "# from the above corr TB , DB; ALT,AST; TP,ALB,AGR are highly correlated."
   ]
  },
  {
   "cell_type": "code",
   "execution_count": 13,
   "metadata": {
    "execution": {
     "iopub.execute_input": "2020-12-06T18:04:07.459086Z",
     "iopub.status.busy": "2020-12-06T18:04:07.457925Z",
     "iopub.status.idle": "2020-12-06T18:04:07.463124Z",
     "shell.execute_reply": "2020-12-06T18:04:07.462427Z"
    },
    "papermill": {
     "duration": 0.041804,
     "end_time": "2020-12-06T18:04:07.463252",
     "exception": false,
     "start_time": "2020-12-06T18:04:07.421448",
     "status": "completed"
    },
    "tags": []
   },
   "outputs": [
    {
     "data": {
      "text/plain": [
       "AGE    0\n",
       "TB     0\n",
       "DB     0\n",
       "ALP    0\n",
       "ALT    0\n",
       "AST    0\n",
       "TP     0\n",
       "ALB    0\n",
       "AGR    0\n",
       "dtype: int64"
      ]
     },
     "execution_count": 13,
     "metadata": {},
     "output_type": "execute_result"
    }
   ],
   "source": [
    "train_set.isnull().sum()"
   ]
  },
  {
   "cell_type": "code",
   "execution_count": 14,
   "metadata": {
    "execution": {
     "iopub.execute_input": "2020-12-06T18:04:07.531399Z",
     "iopub.status.busy": "2020-12-06T18:04:07.530050Z",
     "iopub.status.idle": "2020-12-06T18:04:24.166059Z",
     "shell.execute_reply": "2020-12-06T18:04:24.166699Z"
    },
    "papermill": {
     "duration": 16.674473,
     "end_time": "2020-12-06T18:04:24.166863",
     "exception": false,
     "start_time": "2020-12-06T18:04:07.492390",
     "status": "completed"
    },
    "tags": []
   },
   "outputs": [],
   "source": [
    "from sklearn.model_selection import GridSearchCV\n",
    "from sklearn.metrics import make_scorer, fbeta_score,accuracy_score\n",
    "from sklearn.ensemble import RandomForestClassifier\n",
    "\n",
    "clf = RandomForestClassifier(random_state=0)\n",
    "\n",
    "# TODO: Create the parameters list you wish to tune, using a dictionary if needed.\n",
    "# HINT: parameters = {'parameter_1': [value1, value2], 'parameter_2': [value1, value2]}\n",
    "parameters = {'n_estimators': [100,250,500], 'max_depth': [3,6,9]}\n",
    "\n",
    "# TODO: Make an fbeta_score scoring object using make_scorer()\n",
    "scorer = make_scorer(fbeta_score,beta=2)\n",
    "\n",
    "# TODO: Perform grid search on the classifier using 'scorer' as the scoring method using GridSearchCV()\n",
    "grid_obj = GridSearchCV(clf,parameters,scoring=scorer,n_jobs=-1)\n",
    "\n",
    "# TODO: Fit the grid search object to the training data and find the optimal parameters using fit()\n",
    "grid_fit = grid_obj.fit(train_set,y_train)\n",
    "\n",
    "# Get the estimator\n",
    "best_clf = grid_fit.best_estimator_\n",
    "\n",
    "# Make predictions using the unoptimized and model\n",
    "predictions = (clf.fit(train_set,y_train)).predict(test_set)\n",
    "best_predictions = best_clf.predict(test_set)"
   ]
  },
  {
   "cell_type": "code",
   "execution_count": 15,
   "metadata": {
    "execution": {
     "iopub.execute_input": "2020-12-06T18:04:24.239007Z",
     "iopub.status.busy": "2020-12-06T18:04:24.237902Z",
     "iopub.status.idle": "2020-12-06T18:04:24.241788Z",
     "shell.execute_reply": "2020-12-06T18:04:24.242400Z"
    },
    "papermill": {
     "duration": 0.046691,
     "end_time": "2020-12-06T18:04:24.242566",
     "exception": false,
     "start_time": "2020-12-06T18:04:24.195875",
     "status": "completed"
    },
    "tags": []
   },
   "outputs": [
    {
     "data": {
      "text/html": [
       "<div>\n",
       "<style scoped>\n",
       "    .dataframe tbody tr th:only-of-type {\n",
       "        vertical-align: middle;\n",
       "    }\n",
       "\n",
       "    .dataframe tbody tr th {\n",
       "        vertical-align: top;\n",
       "    }\n",
       "\n",
       "    .dataframe thead th {\n",
       "        text-align: right;\n",
       "    }\n",
       "</style>\n",
       "<table border=\"1\" class=\"dataframe\">\n",
       "  <thead>\n",
       "    <tr style=\"text-align: right;\">\n",
       "      <th></th>\n",
       "      <th>PID</th>\n",
       "      <th>STATUS</th>\n",
       "    </tr>\n",
       "  </thead>\n",
       "  <tbody>\n",
       "    <tr>\n",
       "      <th>0</th>\n",
       "      <td>P2001</td>\n",
       "      <td>1</td>\n",
       "    </tr>\n",
       "    <tr>\n",
       "      <th>1</th>\n",
       "      <td>P2002</td>\n",
       "      <td>1</td>\n",
       "    </tr>\n",
       "    <tr>\n",
       "      <th>2</th>\n",
       "      <td>P2003</td>\n",
       "      <td>1</td>\n",
       "    </tr>\n",
       "    <tr>\n",
       "      <th>3</th>\n",
       "      <td>P2004</td>\n",
       "      <td>1</td>\n",
       "    </tr>\n",
       "    <tr>\n",
       "      <th>4</th>\n",
       "      <td>P2005</td>\n",
       "      <td>1</td>\n",
       "    </tr>\n",
       "  </tbody>\n",
       "</table>\n",
       "</div>"
      ],
      "text/plain": [
       "     PID  STATUS\n",
       "0  P2001       1\n",
       "1  P2002       1\n",
       "2  P2003       1\n",
       "3  P2004       1\n",
       "4  P2005       1"
      ]
     },
     "execution_count": 15,
     "metadata": {},
     "output_type": "execute_result"
    }
   ],
   "source": [
    "pid = test_set_df['PID']\n",
    "df_out = np.hstack((pid,best_predictions))\n",
    "output =pd.DataFrame({'PID':pid,'STATUS':best_predictions})\n",
    "output.head()"
   ]
  },
  {
   "cell_type": "code",
   "execution_count": 16,
   "metadata": {
    "execution": {
     "iopub.execute_input": "2020-12-06T18:04:24.307058Z",
     "iopub.status.busy": "2020-12-06T18:04:24.305940Z",
     "iopub.status.idle": "2020-12-06T18:04:24.623317Z",
     "shell.execute_reply": "2020-12-06T18:04:24.622461Z"
    },
    "papermill": {
     "duration": 0.35199,
     "end_time": "2020-12-06T18:04:24.623453",
     "exception": false,
     "start_time": "2020-12-06T18:04:24.271463",
     "status": "completed"
    },
    "tags": []
   },
   "outputs": [],
   "source": [
    "output.to_csv('submission.csv')"
   ]
  },
  {
   "cell_type": "code",
   "execution_count": 17,
   "metadata": {
    "execution": {
     "iopub.execute_input": "2020-12-06T18:04:24.688941Z",
     "iopub.status.busy": "2020-12-06T18:04:24.688105Z",
     "iopub.status.idle": "2020-12-06T18:04:24.702203Z",
     "shell.execute_reply": "2020-12-06T18:04:24.701538Z"
    },
    "papermill": {
     "duration": 0.049738,
     "end_time": "2020-12-06T18:04:24.702336",
     "exception": false,
     "start_time": "2020-12-06T18:04:24.652598",
     "status": "completed"
    },
    "tags": []
   },
   "outputs": [
    {
     "data": {
      "text/html": [
       "<div>\n",
       "<style scoped>\n",
       "    .dataframe tbody tr th:only-of-type {\n",
       "        vertical-align: middle;\n",
       "    }\n",
       "\n",
       "    .dataframe tbody tr th {\n",
       "        vertical-align: top;\n",
       "    }\n",
       "\n",
       "    .dataframe thead th {\n",
       "        text-align: right;\n",
       "    }\n",
       "</style>\n",
       "<table border=\"1\" class=\"dataframe\">\n",
       "  <thead>\n",
       "    <tr style=\"text-align: right;\">\n",
       "      <th></th>\n",
       "      <th>Unnamed: 0</th>\n",
       "      <th>PID</th>\n",
       "      <th>STATUS</th>\n",
       "    </tr>\n",
       "  </thead>\n",
       "  <tbody>\n",
       "    <tr>\n",
       "      <th>0</th>\n",
       "      <td>0</td>\n",
       "      <td>P2001</td>\n",
       "      <td>1</td>\n",
       "    </tr>\n",
       "    <tr>\n",
       "      <th>1</th>\n",
       "      <td>1</td>\n",
       "      <td>P2002</td>\n",
       "      <td>1</td>\n",
       "    </tr>\n",
       "    <tr>\n",
       "      <th>2</th>\n",
       "      <td>2</td>\n",
       "      <td>P2003</td>\n",
       "      <td>1</td>\n",
       "    </tr>\n",
       "    <tr>\n",
       "      <th>3</th>\n",
       "      <td>3</td>\n",
       "      <td>P2004</td>\n",
       "      <td>1</td>\n",
       "    </tr>\n",
       "    <tr>\n",
       "      <th>4</th>\n",
       "      <td>4</td>\n",
       "      <td>P2005</td>\n",
       "      <td>1</td>\n",
       "    </tr>\n",
       "  </tbody>\n",
       "</table>\n",
       "</div>"
      ],
      "text/plain": [
       "   Unnamed: 0    PID  STATUS\n",
       "0           0  P2001       1\n",
       "1           1  P2002       1\n",
       "2           2  P2003       1\n",
       "3           3  P2004       1\n",
       "4           4  P2005       1"
      ]
     },
     "execution_count": 17,
     "metadata": {},
     "output_type": "execute_result"
    }
   ],
   "source": [
    "df =pd.read_csv('submission.csv')\n",
    "df.head()"
   ]
  },
  {
   "cell_type": "code",
   "execution_count": 18,
   "metadata": {
    "execution": {
     "iopub.execute_input": "2020-12-06T18:04:24.770510Z",
     "iopub.status.busy": "2020-12-06T18:04:24.769470Z",
     "iopub.status.idle": "2020-12-06T18:04:24.773191Z",
     "shell.execute_reply": "2020-12-06T18:04:24.772416Z"
    },
    "papermill": {
     "duration": 0.040643,
     "end_time": "2020-12-06T18:04:24.773322",
     "exception": false,
     "start_time": "2020-12-06T18:04:24.732679",
     "status": "completed"
    },
    "tags": []
   },
   "outputs": [],
   "source": [
    "df= df.drop('Unnamed: 0',axis=1)"
   ]
  },
  {
   "cell_type": "code",
   "execution_count": 19,
   "metadata": {
    "execution": {
     "iopub.execute_input": "2020-12-06T18:04:24.844437Z",
     "iopub.status.busy": "2020-12-06T18:04:24.843210Z",
     "iopub.status.idle": "2020-12-06T18:04:24.848078Z",
     "shell.execute_reply": "2020-12-06T18:04:24.847335Z"
    },
    "papermill": {
     "duration": 0.044929,
     "end_time": "2020-12-06T18:04:24.848209",
     "exception": false,
     "start_time": "2020-12-06T18:04:24.803280",
     "status": "completed"
    },
    "tags": []
   },
   "outputs": [
    {
     "data": {
      "text/html": [
       "<div>\n",
       "<style scoped>\n",
       "    .dataframe tbody tr th:only-of-type {\n",
       "        vertical-align: middle;\n",
       "    }\n",
       "\n",
       "    .dataframe tbody tr th {\n",
       "        vertical-align: top;\n",
       "    }\n",
       "\n",
       "    .dataframe thead th {\n",
       "        text-align: right;\n",
       "    }\n",
       "</style>\n",
       "<table border=\"1\" class=\"dataframe\">\n",
       "  <thead>\n",
       "    <tr style=\"text-align: right;\">\n",
       "      <th></th>\n",
       "      <th>PID</th>\n",
       "      <th>STATUS</th>\n",
       "    </tr>\n",
       "  </thead>\n",
       "  <tbody>\n",
       "    <tr>\n",
       "      <th>0</th>\n",
       "      <td>P2001</td>\n",
       "      <td>1</td>\n",
       "    </tr>\n",
       "    <tr>\n",
       "      <th>1</th>\n",
       "      <td>P2002</td>\n",
       "      <td>1</td>\n",
       "    </tr>\n",
       "    <tr>\n",
       "      <th>2</th>\n",
       "      <td>P2003</td>\n",
       "      <td>1</td>\n",
       "    </tr>\n",
       "    <tr>\n",
       "      <th>3</th>\n",
       "      <td>P2004</td>\n",
       "      <td>1</td>\n",
       "    </tr>\n",
       "    <tr>\n",
       "      <th>4</th>\n",
       "      <td>P2005</td>\n",
       "      <td>1</td>\n",
       "    </tr>\n",
       "  </tbody>\n",
       "</table>\n",
       "</div>"
      ],
      "text/plain": [
       "     PID  STATUS\n",
       "0  P2001       1\n",
       "1  P2002       1\n",
       "2  P2003       1\n",
       "3  P2004       1\n",
       "4  P2005       1"
      ]
     },
     "execution_count": 19,
     "metadata": {},
     "output_type": "execute_result"
    }
   ],
   "source": [
    "df.head()"
   ]
  },
  {
   "cell_type": "code",
   "execution_count": 20,
   "metadata": {
    "execution": {
     "iopub.execute_input": "2020-12-06T18:04:24.915711Z",
     "iopub.status.busy": "2020-12-06T18:04:24.914741Z",
     "iopub.status.idle": "2020-12-06T18:04:24.919088Z",
     "shell.execute_reply": "2020-12-06T18:04:24.918324Z"
    },
    "papermill": {
     "duration": 0.040739,
     "end_time": "2020-12-06T18:04:24.919219",
     "exception": false,
     "start_time": "2020-12-06T18:04:24.878480",
     "status": "completed"
    },
    "tags": []
   },
   "outputs": [],
   "source": [
    "df.to_csv('submission.csv', index=False)"
   ]
  },
  {
   "cell_type": "code",
   "execution_count": 21,
   "metadata": {
    "execution": {
     "iopub.execute_input": "2020-12-06T18:04:24.993074Z",
     "iopub.status.busy": "2020-12-06T18:04:24.992111Z",
     "iopub.status.idle": "2020-12-06T18:04:24.997218Z",
     "shell.execute_reply": "2020-12-06T18:04:24.996406Z"
    },
    "papermill": {
     "duration": 0.047798,
     "end_time": "2020-12-06T18:04:24.997350",
     "exception": false,
     "start_time": "2020-12-06T18:04:24.949552",
     "status": "completed"
    },
    "tags": []
   },
   "outputs": [
    {
     "data": {
      "text/html": [
       "<div>\n",
       "<style scoped>\n",
       "    .dataframe tbody tr th:only-of-type {\n",
       "        vertical-align: middle;\n",
       "    }\n",
       "\n",
       "    .dataframe tbody tr th {\n",
       "        vertical-align: top;\n",
       "    }\n",
       "\n",
       "    .dataframe thead th {\n",
       "        text-align: right;\n",
       "    }\n",
       "</style>\n",
       "<table border=\"1\" class=\"dataframe\">\n",
       "  <thead>\n",
       "    <tr style=\"text-align: right;\">\n",
       "      <th></th>\n",
       "      <th>PID</th>\n",
       "      <th>STATUS</th>\n",
       "    </tr>\n",
       "  </thead>\n",
       "  <tbody>\n",
       "    <tr>\n",
       "      <th>0</th>\n",
       "      <td>P2001</td>\n",
       "      <td>1</td>\n",
       "    </tr>\n",
       "    <tr>\n",
       "      <th>1</th>\n",
       "      <td>P2002</td>\n",
       "      <td>1</td>\n",
       "    </tr>\n",
       "    <tr>\n",
       "      <th>2</th>\n",
       "      <td>P2003</td>\n",
       "      <td>1</td>\n",
       "    </tr>\n",
       "    <tr>\n",
       "      <th>3</th>\n",
       "      <td>P2004</td>\n",
       "      <td>1</td>\n",
       "    </tr>\n",
       "    <tr>\n",
       "      <th>4</th>\n",
       "      <td>P2005</td>\n",
       "      <td>1</td>\n",
       "    </tr>\n",
       "  </tbody>\n",
       "</table>\n",
       "</div>"
      ],
      "text/plain": [
       "     PID  STATUS\n",
       "0  P2001       1\n",
       "1  P2002       1\n",
       "2  P2003       1\n",
       "3  P2004       1\n",
       "4  P2005       1"
      ]
     },
     "execution_count": 21,
     "metadata": {},
     "output_type": "execute_result"
    }
   ],
   "source": [
    "pd.read_csv('submission.csv').head()"
   ]
  },
  {
   "cell_type": "code",
   "execution_count": null,
   "metadata": {
    "papermill": {
     "duration": 0.030726,
     "end_time": "2020-12-06T18:04:25.059727",
     "exception": false,
     "start_time": "2020-12-06T18:04:25.029001",
     "status": "completed"
    },
    "tags": []
   },
   "outputs": [],
   "source": []
  }
 ],
 "metadata": {
  "kernelspec": {
   "display_name": "Python 3",
   "language": "python",
   "name": "python3"
  },
  "language_info": {
   "codemirror_mode": {
    "name": "ipython",
    "version": 3
   },
   "file_extension": ".py",
   "mimetype": "text/x-python",
   "name": "python",
   "nbconvert_exporter": "python",
   "pygments_lexer": "ipython3",
   "version": "3.7.6"
  },
  "papermill": {
   "duration": 25.836439,
   "end_time": "2020-12-06T18:04:25.207881",
   "environment_variables": {},
   "exception": null,
   "input_path": "__notebook__.ipynb",
   "output_path": "__notebook__.ipynb",
   "parameters": {},
   "start_time": "2020-12-06T18:03:59.371442",
   "version": "2.1.0"
  }
 },
 "nbformat": 4,
 "nbformat_minor": 4
}
